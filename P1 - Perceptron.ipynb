{
 "cells": [
  {
   "cell_type": "code",
   "execution_count": 1,
   "metadata": {},
   "outputs": [],
   "source": [
    "class Perceptron:\n",
    "    \n",
    "    def __init__(self, weights=[], bias=0):\n",
    "        self.weights = weights\n",
    "        self.bias = bias\n",
    "        self.Input = []\n",
    "        self.Answer = 0\n",
    "        \n",
    "    def set_values(self, values):\n",
    "        # set de values voor de weights van de verbindingen\n",
    "        # en de grootte van de bias\n",
    "        self.weights = values[0]\n",
    "        self.bias = values[1]\n",
    "        \n",
    "    def set_input(self, Input):\n",
    "        # set de Perceptrons die gegeven worden als input\n",
    "        self.Input = Input\n",
    "        \n",
    "    def answer(self, invoer=[]):\n",
    "        # rekend het antwoord uit en verwerkt deze.\n",
    "        if self.weights == [0] and self.bias == 0:\n",
    "            # als de Perceptron is geinitialiseerd en leeg is\n",
    "            # maakt hij answer de invoer\n",
    "            self.Answer = invoer   \n",
    "        elif invoer==[]:\n",
    "            # als de Initialisatie niet leeg is maar geen invoer heeft,\n",
    "            # gebruikt hij de answers van de Input Perceptrons als invoer\n",
    "            # en slaat hij het antwoord op\n",
    "            Sum = 0\n",
    "            for i in range(len(self.Input)):\n",
    "                Sum+= self.Input[i].get_answer()*self.weights[i]\n",
    "            Sum+=self.bias\n",
    "            if Sum >= 0:\n",
    "                self.Answer = 1\n",
    "            else:\n",
    "                self.Answer = 0\n",
    "        else:\n",
    "            # als hij is geinitialiseerd en een invoer heeft is het een\n",
    "            # losse Perceptron die het antwoord returned na het rekenen\n",
    "            Sum = 0\n",
    "            for i in range(len(invoer)):\n",
    "                Sum+= invoer[i]*self.weights[i]\n",
    "            Sum+=self.bias\n",
    "            if Sum >= 0:\n",
    "                return 1\n",
    "            else:\n",
    "                return 0\n",
    "        \n",
    "    def get_answer(self):\n",
    "        # geeft het antwoord terug\n",
    "        return self.Answer\n",
    "    \n",
    "    def __str__(self):\n",
    "        return \"Weight:{self.weights},Bias:{self.bias}\".format(self=self)\n",
    "    \n",
    "    def __repr__(self):\n",
    "        return \"Weight:{self.weights},Bias:{self.bias}\".format(self=self)\n",
    "        "
   ]
  },
  {
   "cell_type": "code",
   "execution_count": 2,
   "metadata": {},
   "outputs": [
    {
     "name": "stdout",
     "output_type": "stream",
     "text": [
      "1\n",
      "0\n"
     ]
    }
   ],
   "source": [
    "INVERT = Perceptron([-1], 0.5)\n",
    "print(INVERT.answer([0]))\n",
    "print(INVERT.answer([1]))"
   ]
  },
  {
   "cell_type": "code",
   "execution_count": 3,
   "metadata": {},
   "outputs": [
    {
     "name": "stdout",
     "output_type": "stream",
     "text": [
      "0\n",
      "0\n",
      "0\n",
      "1\n"
     ]
    }
   ],
   "source": [
    "AND = Perceptron([1, 1], -2)\n",
    "print(AND.answer([0, 0]))\n",
    "print(AND.answer([0, 1]))\n",
    "print(AND.answer([1, 0]))\n",
    "print(AND.answer([1, 1]))"
   ]
  },
  {
   "cell_type": "code",
   "execution_count": 4,
   "metadata": {},
   "outputs": [
    {
     "name": "stdout",
     "output_type": "stream",
     "text": [
      "0\n",
      "1\n",
      "1\n",
      "1\n"
     ]
    }
   ],
   "source": [
    "OR = Perceptron([1, 1], -0.5)\n",
    "print(OR.answer([0, 0]))\n",
    "print(OR.answer([0, 1]))\n",
    "print(OR.answer([1, 0]))\n",
    "print(OR.answer([1, 1]))"
   ]
  },
  {
   "cell_type": "code",
   "execution_count": 5,
   "metadata": {},
   "outputs": [
    {
     "name": "stdout",
     "output_type": "stream",
     "text": [
      "1\n",
      "0\n",
      "0\n",
      "0\n",
      "0\n",
      "0\n",
      "0\n",
      "0\n"
     ]
    }
   ],
   "source": [
    "NOR = Perceptron([-1, -1, -1], 0.5)\n",
    "print(NOR.answer([0, 0, 0]))\n",
    "print(NOR.answer([0, 0, 1]))\n",
    "print(NOR.answer([0, 1, 0]))\n",
    "print(NOR.answer([0, 1, 1]))\n",
    "print(NOR.answer([1, 0, 0]))\n",
    "print(NOR.answer([1, 0, 1]))\n",
    "print(NOR.answer([1, 1, 0]))\n",
    "print(NOR.answer([1, 1, 1]))"
   ]
  },
  {
   "cell_type": "code",
   "execution_count": 6,
   "metadata": {},
   "outputs": [
    {
     "name": "stdout",
     "output_type": "stream",
     "text": [
      "1\n",
      "1\n",
      "1\n",
      "0\n"
     ]
    }
   ],
   "source": [
    "NAND = Perceptron([-1, -1], 1)\n",
    "print(NAND.answer([0, 0]))\n",
    "print(NAND.answer([0, 1]))\n",
    "print(NAND.answer([1, 0]))\n",
    "print(NAND.answer([1, 1]))"
   ]
  },
  {
   "cell_type": "code",
   "execution_count": 7,
   "metadata": {},
   "outputs": [
    {
     "name": "stdout",
     "output_type": "stream",
     "text": [
      "0\n",
      "0\n",
      "0\n",
      "1\n",
      "1\n",
      "1\n",
      "1\n",
      "1\n"
     ]
    }
   ],
   "source": [
    "PARTY = Perceptron([0.6, 0.3, 0.2], -0.4)\n",
    "print(PARTY.answer([0, 0, 0]))\n",
    "print(PARTY.answer([0, 0, 1]))\n",
    "print(PARTY.answer([0, 1, 0]))\n",
    "print(PARTY.answer([0, 1, 1]))\n",
    "print(PARTY.answer([1, 0, 0]))\n",
    "print(PARTY.answer([1, 0, 1]))\n",
    "print(PARTY.answer([1, 1, 0]))\n",
    "print(PARTY.answer([1, 1, 1]))"
   ]
  },
  {
   "cell_type": "code",
   "execution_count": 8,
   "metadata": {},
   "outputs": [],
   "source": [
    "class PerceptronLayer:\n",
    "    def __init__(self, amount: int):\n",
    "        # maakt een lijst met Perceptrons gelijk aan\n",
    "        # de hoeveelheid die is meegegeven\n",
    "        self.Perceptrons = []\n",
    "        for i in range(amount):\n",
    "            self.Perceptrons.append(Perceptron([], 0))\n",
    "            \n",
    "    def set_values(self, values):\n",
    "        # set de values voor de Perceptrons in de Layer\n",
    "        for i in range(len(self.Perceptrons)):\n",
    "            self.Perceptrons[i].set_values(values[i])\n",
    "            \n",
    "    def set_inputs(self, inputs):\n",
    "        # set de Input van de Perceptrons als de \n",
    "        # Perceptrons uit een andere Layer\n",
    "        for i in self.Perceptrons:\n",
    "            i.set_input(inputs.Perceptrons)\n",
    "    \n",
    "    def answer(self, invoer=[]):\n",
    "        # laat de Perceptrons in de Layer de antwoorden berekenen\n",
    "        if invoer == []:\n",
    "            # als er geen invoer is reken je de antwoorden\n",
    "            # gewoon uit\n",
    "            for i in self.Perceptrons:\n",
    "                i.answer()\n",
    "        else:\n",
    "            # als er een invoer is geef je deze mee zodat hiermee\n",
    "            # gerekend kan worden\n",
    "            for i in range(len(self.Perceptrons)):\n",
    "                self.Perceptrons[i].answer(invoer[i])\n",
    "            \n",
    "    def get_answer(self):\n",
    "        # haalt de antwoorden op uit de Perceptrons in de Layer\n",
    "        answers = []\n",
    "        for i in self.Perceptrons:\n",
    "            answers.append(i.get_answer())\n",
    "        return answers\n",
    "            \n",
    "    def __str__(self):\n",
    "        return \"Perceptrons:{self.Perceptrons}\".format(self=self)\n",
    "            \n",
    "    def __repr__(self):\n",
    "        return \"Perceptrons:{self.Perceptrons}\".format(self=self)\n",
    "            "
   ]
  },
  {
   "cell_type": "code",
   "execution_count": 9,
   "metadata": {},
   "outputs": [],
   "source": [
    "class PerceptronNetwork:\n",
    "    def __init__(self, amounts: [int]):\n",
    "        self.Layers = []\n",
    "        for i in amounts:\n",
    "            self.Layers.append(PerceptronLayer(i))\n",
    "            \n",
    "    def set_values(self, values):\n",
    "        # set de values voor alle Perceptrons in alle Layers\n",
    "        for i in range(len(self.Layers)):\n",
    "            self.Layers[i].set_values(values[i])\n",
    "            \n",
    "    def set_inputs(self):\n",
    "        # set de inputs van de Perceptrons in alle Layers behalve de\n",
    "        # eerste als de Perceptrons van de laag erboven\n",
    "        for i in range(1, len(self.Layers)):\n",
    "            self.Layers[i].set_inputs(self.Layers[i-1])\n",
    "            \n",
    "    def feed_forward(self, invoer:[int]):\n",
    "        # voert het network uit en geeft het antwoord\n",
    "        # voor de invoer terug\n",
    "        self.set_inputs()\n",
    "        self.Layers[0].answer(invoer)\n",
    "        for i in range(1, len(self.Layers)):\n",
    "            self.Layers[i].answer()\n",
    "        return self.Layers[-1].get_answer()\n",
    "            \n",
    "    def __str__(self):\n",
    "        return \"Layers:{self.Layers}\".format(self=self)\n",
    "    \n",
    "    def __repr__(self):\n",
    "        return \"Layers:{self.Layers}\".format(self=self)"
   ]
  },
  {
   "cell_type": "code",
   "execution_count": 10,
   "metadata": {},
   "outputs": [],
   "source": [
    "XOR = PerceptronNetwork([2, 2, 1])"
   ]
  },
  {
   "cell_type": "code",
   "execution_count": 11,
   "metadata": {},
   "outputs": [],
   "source": [
    "XOR.set_values([[[[0], 0], [[0], 0]],\n",
    "                [[[-1, -1], 1], [[1, 1], -0.5]], \n",
    "                [[[1, 1], -2]]])"
   ]
  },
  {
   "cell_type": "code",
   "execution_count": 12,
   "metadata": {},
   "outputs": [
    {
     "name": "stdout",
     "output_type": "stream",
     "text": [
      "[0]\n",
      "[1]\n",
      "[1]\n",
      "[0]\n"
     ]
    }
   ],
   "source": [
    "print(XOR.feed_forward([0, 0]))\n",
    "print(XOR.feed_forward([0, 1]))\n",
    "print(XOR.feed_forward([1, 0]))\n",
    "print(XOR.feed_forward([1, 1]))"
   ]
  },
  {
   "cell_type": "code",
   "execution_count": 13,
   "metadata": {},
   "outputs": [
    {
     "name": "stdout",
     "output_type": "stream",
     "text": [
      "Layers:[Perceptrons:[Weight:[0],Bias:0, Weight:[0],Bias:0], Perceptrons:[Weight:[-1, -1],Bias:1, Weight:[1, 1],Bias:-0.5], Perceptrons:[Weight:[1, 1],Bias:-2]]\n"
     ]
    }
   ],
   "source": [
    "print(XOR)"
   ]
  },
  {
   "cell_type": "code",
   "execution_count": null,
   "metadata": {},
   "outputs": [],
   "source": []
  }
 ],
 "metadata": {
  "kernelspec": {
   "display_name": "Python 3",
   "language": "python",
   "name": "python3"
  },
  "language_info": {
   "codemirror_mode": {
    "name": "ipython",
    "version": 3
   },
   "file_extension": ".py",
   "mimetype": "text/x-python",
   "name": "python",
   "nbconvert_exporter": "python",
   "pygments_lexer": "ipython3",
   "version": "3.8.3"
  }
 },
 "nbformat": 4,
 "nbformat_minor": 4
}
